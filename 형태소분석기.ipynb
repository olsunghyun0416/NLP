{
 "metadata": {
  "language_info": {
   "codemirror_mode": {
    "name": "ipython",
    "version": 3
   },
   "file_extension": ".py",
   "mimetype": "text/x-python",
   "name": "python",
   "nbconvert_exporter": "python",
   "pygments_lexer": "ipython3",
   "version": 3
  },
  "orig_nbformat": 2
 },
 "nbformat": 4,
 "nbformat_minor": 2,
 "cells": [
  {
   "cell_type": "code",
   "execution_count": null,
   "metadata": {},
   "outputs": [],
   "source": [
    "# 행태소분석기 설치\n",
    "!set -x \\\n",
    "&& pip install konlpy \\\n",
    "&& curl -s https://raw.githubusercontent.com/konlpy/konlpy/master/scripts/mecab.sh | bash -x"
   ]
  },
  {
   "cell_type": "code",
   "execution_count": null,
   "metadata": {},
   "outputs": [],
   "source": [
    "import konlpy"
   ]
  },
  {
   "cell_type": "code",
   "execution_count": null,
   "metadata": {},
   "outputs": [],
   "source": [
    "okt = konlpy.tag.Okt()\n",
    "okt.morphs(text)"
   ]
  },
  {
   "cell_type": "code",
   "execution_count": null,
   "metadata": {},
   "outputs": [],
   "source": [
    "mecab = konlpy.tag.Mecab()\n",
    "mecab.morphs(text)"
   ]
  },
  {
   "cell_type": "code",
   "execution_count": null,
   "metadata": {},
   "outputs": [],
   "source": [
    "hannanum = konlpy.tag.Hannanum()\n",
    "hannanum.morphs(text)"
   ]
  },
  {
   "cell_type": "code",
   "execution_count": null,
   "metadata": {},
   "outputs": [],
   "source": [
    "komoran = konlpy.tag.Komoran()\n",
    "komoran.morphs(text)"
   ]
  },
  {
   "cell_type": "code",
   "execution_count": null,
   "metadata": {},
   "outputs": [],
   "source": [
    "kkma = konlpy.tag.Kkma()\n",
    "kkma.morphs(text)"
   ]
  },
  {
   "cell_type": "code",
   "execution_count": null,
   "metadata": {},
   "outputs": [],
   "source": [
    "mecab_counter = collections.defaultdict(int)\n",
    "# mecab tokenizer 개수 확인 (시간 오래 걸림)\n",
    "with zipfile.ZipFile(os.path.join(kowiki_dir, 'kowiki.txt.zip')) as z:\n",
    "    with z.open('kowiki.txt') as f:\n",
    "        for i, line in enumerate(f):\n",
    "            if i >= 100000:\n",
    "                break\n",
    "            line = line.decode('utf-8').strip()\n",
    "            for w in mecab.morphs(line):\n",
    "                mecab_counter[w] += 1\n",
    "len(mecab_counter)"
   ]
  },
  {
   "cell_type": "code",
   "execution_count": null,
   "metadata": {},
   "outputs": [],
   "source": [
    "list(mecab_counter.items())[:100]"
   ]
  }
 ]
}