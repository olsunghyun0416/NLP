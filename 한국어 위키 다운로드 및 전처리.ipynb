{
 "metadata": {
  "language_info": {
   "codemirror_mode": {
    "name": "ipython",
    "version": 3
   },
   "file_extension": ".py",
   "mimetype": "text/x-python",
   "name": "python",
   "nbconvert_exporter": "python",
   "pygments_lexer": "ipython3",
   "version": 3
  },
  "orig_nbformat": 2
 },
 "nbformat": 4,
 "nbformat_minor": 2,
 "cells": [
  {
   "cell_type": "code",
   "execution_count": null,
   "metadata": {},
   "outputs": [],
   "source": [
    "# 한국어 위키 최신 dump 버전 다운로드\n",
    "!wget https://dumps.wikimedia.org/kowiki/latest/kowiki-latest-pages-meta-current.xml.bz2"
   ]
  },
  {
   "cell_type": "code",
   "execution_count": null,
   "metadata": {},
   "outputs": [],
   "source": [
    "# WikiExtractor 다운로드\n",
    "!wget https://github.com/paul-hyun/web-crawler/raw/master/WikiExtractor.py"
   ]
  },
  {
   "cell_type": "code",
   "execution_count": null,
   "metadata": {},
   "outputs": [],
   "source": [
    "# 현재 폴더 파일 목록 확인\n",
    "os.listdir('.')"
   ]
  },
  {
   "cell_type": "code",
   "execution_count": null,
   "metadata": {},
   "outputs": [],
   "source": [
    "# WikiExtractor 실행 (30분 이상 오랜 시간 소요 됨)\n",
    "# -o: 출력할 폴더\n",
    "# --json: json format으로 출력\n",
    "os.system(f\"python WikiExtractor.py -o kowiki --json kowiki-latest-pages-meta-current.xml.bz2\")"
   ]
  },
  {
   "cell_type": "code",
   "execution_count": null,
   "metadata": {},
   "outputs": [],
   "source": [
    "with open(os.path.join('kowiki', 'AA', 'wiki_00')) as f:\n",
    "    for i, line in enumerate(f):\n",
    "        if i >= 10:\n",
    "            break\n",
    "        line = line.strip()\n",
    "        print(line)"
   ]
  },
  {
   "cell_type": "code",
   "execution_count": null,
   "metadata": {},
   "outputs": [],
   "source": [
    "def list_wiki(dirname):\n",
    "    \"\"\"\n",
    "    위키 목록을 읽어들임\n",
    "    :param dirname: 위키 dir\n",
    "    :return: 위키 파일 목록\n",
    "    \"\"\"\n",
    "    filepaths = []\n",
    "    filenames = os.listdir(dirname)\n",
    "    for filename in filenames:\n",
    "        filepath = os.path.join(dirname, filename)\n",
    "\n",
    "        if os.path.isdir(filepath):\n",
    "            filepaths.extend(list_wiki(filepath))\n",
    "        else:\n",
    "            find = re.findall(r\"wiki_[0-9][0-9]\", filepath)\n",
    "            if 0 < len(find):\n",
    "                filepaths.append(filepath)\n",
    "    return sorted(filepaths)"
   ]
  },
  {
   "cell_type": "code",
   "execution_count": null,
   "metadata": {},
   "outputs": [],
   "source": [
    "filepaths = []\n",
    "dirnames = os.listdir('kowiki')\n",
    "for dirname in dirnames:\n",
    "    dirpath = os.path.join('kowiki', dirname)\n",
    "    filenames = os.listdir(dirpath)\n",
    "    for filename in filenames:\n",
    "        if filename.startswith('wiki_'):\n",
    "            filepath = os.path.join(dirpath, filename)\n",
    "            filepaths.append(filepath)\n",
    "filepaths = sorted(filepaths)\n",
    "print(len(filepaths), filepaths[:10])"
   ]
  },
  {
   "cell_type": "code",
   "execution_count": null,
   "metadata": {},
   "outputs": [],
   "source": [
    "def trim_text(item):\n",
    "    \"\"\"\n",
    "    한 위키 문서 내의 여러줄띄기(\\n\\n...)를 한줄띄기로(\\n)로 변경\n",
    "    :param item: 위키 항목\n",
    "    :return: text의 여러줄 new line을 한 줄 new line으로 변경한 json data\n",
    "    \"\"\"\n",
    "    data = json.loads(item)\n",
    "    text = data[\"text\"]\n",
    "    value = list(filter(lambda x: len(x) > 0, text.split('\\n')))\n",
    "    data[\"text\"] = \"\\n\".join(value)\n",
    "    return data"
   ]
  },
  {
   "cell_type": "code",
   "execution_count": null,
   "metadata": {},
   "outputs": [],
   "source": [
    "# 여러줄띄기(\\n\\n...)를 한줄띄기로(\\n)로 변경\n",
    "dataset = []\n",
    "for filepath in tqdm(filepaths):\n",
    "    with open(filepath, \"r\") as f:\n",
    "        for line in f:\n",
    "            line = line.strip()\n",
    "            if line:\n",
    "                dataset.append(trim_text(line))\n",
    "print(len(dataset))"
   ]
  },
  {
   "cell_type": "code",
   "execution_count": null,
   "metadata": {},
   "outputs": [],
   "source": [
    "# 위키를 한 파일로 저장\n",
    "with open(\"kowiki.txt\", \"w\") as f:\n",
    "    for data in tqdm(dataset):\n",
    "        f.write(data[\"text\"])\n",
    "        f.write(\"\\n\\n\\n\\n\")"
   ]
  },
  {
   "cell_type": "code",
   "execution_count": null,
   "metadata": {},
   "outputs": [],
   "source": [
    "# 파일 내용 확인\n",
    "with open(\"kowiki.txt\") as f:\n",
    "    for i, line in enumerate(f):\n",
    "        if i >= 30:\n",
    "            break\n",
    "        line = line.strip()\n",
    "        print(line)"
   ]
  },
  {
   "cell_type": "code",
   "execution_count": null,
   "metadata": {},
   "outputs": [],
   "source": [
    "# 압축\n",
    "!zip kowiki.txt.zip kowiki.txt"
   ]
  },
  {
   "cell_type": "code",
   "execution_count": null,
   "metadata": {},
   "outputs": [],
   "source": [
    "# 압축파일 보관\n",
    "shutil.move('kowiki.txt.zip', os.path.join(kowiki_dir, 'kowiki.txt.zip'))\n",
    "os.listdir(kowiki_dir)"
   ]
  }
 ]
}