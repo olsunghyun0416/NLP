{
 "metadata": {
  "language_info": {
   "codemirror_mode": {
    "name": "ipython",
    "version": 3
   },
   "file_extension": ".py",
   "mimetype": "text/x-python",
   "name": "python",
   "nbconvert_exporter": "python",
   "pygments_lexer": "ipython3",
   "version": "3.8.5-final"
  },
  "orig_nbformat": 2,
  "kernelspec": {
   "name": "python3",
   "display_name": "Python 3.8.5 64-bit",
   "metadata": {
    "interpreter": {
     "hash": "0adcc2737ebf6a4a119f135174df96668767fca1ef1112612db5ecadf2b6d608"
    }
   }
  }
 },
 "nbformat": 4,
 "nbformat_minor": 2,
 "cells": [
  {
   "cell_type": "code",
   "execution_count": 1,
   "metadata": {},
   "outputs": [],
   "source": [
    "import numpy as np\n",
    "import matplotlib.pyplot as plt\n",
    "\n",
    "import tensorflow as tf"
   ]
  },
  {
   "source": [
    "# 데이터"
   ],
   "cell_type": "markdown",
   "metadata": {}
  },
  {
   "cell_type": "code",
   "execution_count": 2,
   "metadata": {},
   "outputs": [
    {
     "output_type": "execute_result",
     "data": {
      "text/plain": [
       "('긍정', [[1, 1, 1, 2], [1, 1, 0]], ['나는 오늘 기분이 좋아', '나는 오늘 우울해'])"
      ]
     },
     "metadata": {},
     "execution_count": 2
    }
   ],
   "source": [
    "# 입력 문장\n",
    "sentences = [\n",
    "    '나는 오늘 기분이 좋아',\n",
    "    '나는 오늘 우울해'\n",
    "]\n",
    "\n",
    "# 출력 정답\n",
    "labels = [[1, 1, 1, 2],\n",
    "          [1, 1, 0]]  # 긍정(2), 중립(1), 부정(0)\n",
    "\n",
    "# 정답 dic\n",
    "id_to_label = {0: '부정', 1: '중립', 2: '긍정'}\n",
    "\n",
    "id_to_label[2], labels, sentences"
   ]
  },
  {
   "source": [
    "# Vocabulary"
   ],
   "cell_type": "markdown",
   "metadata": {}
  },
  {
   "cell_type": "code",
   "execution_count": 6,
   "metadata": {},
   "outputs": [
    {
     "output_type": "execute_result",
     "data": {
      "text/plain": [
       "['나는', '오늘', '기분이', '좋아', '나는', '오늘', '우울해']"
      ]
     },
     "metadata": {},
     "execution_count": 6
    }
   ],
   "source": [
    "# 각 문장을 띄어쓰기 단위로 분할\n",
    "words = []\n",
    "for sentence in sentences:\n",
    "    words.extend(sentence.split())\n",
    "words"
   ]
  },
  {
   "cell_type": "code",
   "execution_count": 7,
   "metadata": {},
   "outputs": [
    {
     "output_type": "execute_result",
     "data": {
      "text/plain": [
       "['나는', '오늘', '기분이', '좋아', '우울해']"
      ]
     },
     "metadata": {},
     "execution_count": 7
    }
   ],
   "source": [
    "# 중복 단어 제거\n",
    "words = list(dict.fromkeys(words))\n",
    "words"
   ]
  },
  {
   "cell_type": "code",
   "execution_count": null,
   "metadata": {},
   "outputs": [],
   "source": [
    "# 각 단어별 고유한 번호 부여\n",
    "word_to_id = {'[PAD]': 0, '[UNK]': 1}  # PAD 길이를 조절할때, UNK vocab에 없는 단어\n",
    "for word in words:\n",
    "    word_to_id[word] = len(word_to_id)\n",
    "word_to_id"
   ]
  },
  {
   "cell_type": "code",
   "execution_count": null,
   "metadata": {},
   "outputs": [],
   "source": [
    "# 각 숫자별 단어 부여\n",
    "id_to_word = {_id:word for word, _id in word_to_id.items()}\n",
    "id_to_word"
   ]
  },
  {
   "source": [
    "# 모델 학습용 데이터 생성"
   ],
   "cell_type": "markdown",
   "metadata": {}
  },
  {
   "cell_type": "code",
   "execution_count": null,
   "metadata": {},
   "outputs": [],
   "source": [
    "# 학습용 입력 데이터 생성\n",
    "train_inputs = []\n",
    "for sentence in sentences:\n",
    "    train_inputs.append([word_to_id[word] for word in sentence.split()])\n",
    "train_inputs"
   ]
  },
  {
   "cell_type": "code",
   "execution_count": null,
   "metadata": {},
   "outputs": [],
   "source": [
    "# 문장의 길이를 모두 동일하게 변경 (최대길이 4)\n",
    "for row in train_inputs:\n",
    "    row += [0] * (4 - len(row))\n",
    "train_inputs"
   ]
  },
  {
   "cell_type": "code",
   "execution_count": null,
   "metadata": {},
   "outputs": [],
   "source": [
    "# train inputs을 numpy array로 변환\n",
    "train_inputs = np.array(train_inputs)\n",
    "train_inputs"
   ]
  },
  {
   "cell_type": "code",
   "execution_count": null,
   "metadata": {},
   "outputs": [],
   "source": [
    "# train label은 labels를 그래도 사용\n",
    "train_labels = labels\n",
    "train_labels"
   ]
  },
  {
   "cell_type": "code",
   "execution_count": null,
   "metadata": {},
   "outputs": [],
   "source": [
    "# 정답 길이를 모두 동일하게 변경 (최대길이 4)\n",
    "for row in train_labels:\n",
    "    row += [1] * (4 - len(row))\n",
    "train_labels"
   ]
  },
  {
   "cell_type": "code",
   "execution_count": null,
   "metadata": {},
   "outputs": [],
   "source": [
    "# 학습용 정답을 numpy array로 변환\n",
    "train_labels = np.array(train_labels)\n",
    "train_labels"
   ]
  },
  {
   "cell_type": "code",
   "execution_count": null,
   "metadata": {},
   "outputs": [],
   "source": [
    "def build_model(n_vocab, d_model, n_seq, n_out):\n",
    "    \"\"\"\n",
    "    동작만 하는 간단한 모델\n",
    "    :param n_vocab: vocabulary 단어 수\n",
    "    :param d_model: 단어를 의미하는 벡터의 차원 수\n",
    "    :param n_seq: 문장길이 (단어 수)\n",
    "    :param n_out: 예측할 class 개수\n",
    "    \"\"\"\n",
    "    inputs = tf.keras.layers.Input((n_seq,))  # (bs, n_seq)\n",
    "\n",
    "    # 입력 단어를 vector로 변환\n",
    "    embedding = tf.keras.layers.Embedding(n_vocab, d_model)\n",
    "    hidden = embedding(inputs)  # (bs, n_seq, d_model)\n",
    "    # 단어의 vector를 이용해서 정답 확률값 예측\n",
    "    linear = tf.keras.layers.Dense(n_out, activation=tf.nn.softmax)\n",
    "    outputs = linear(hidden)  # (bs, n_seq, n_out)\n",
    "    \n",
    "    # 학습할 모델 선언\n",
    "    model = tf.keras.Model(inputs=inputs, outputs=outputs)\n",
    "    return model"
   ]
  },
  {
   "cell_type": "code",
   "execution_count": null,
   "metadata": {},
   "outputs": [],
   "source": [
    "# 모델 생성\n",
    "model = build_model(len(word_to_id), 8, 4, 3)\n",
    "# 모델 내용 그래프 출력\n",
    "tf.keras.utils.plot_model(model, 'model.png', show_shapes=True)"
   ]
  },
  {
   "cell_type": "code",
   "execution_count": null,
   "metadata": {},
   "outputs": [],
   "source": [
    "model.summary()"
   ]
  },
  {
   "source": [
    "# 모델링"
   ],
   "cell_type": "markdown",
   "metadata": {}
  },
  {
   "cell_type": "code",
   "execution_count": null,
   "metadata": {},
   "outputs": [],
   "source": [
    "# 입력 단어를 vector로 변환\n",
    "embedding = tf.keras.layers.Embedding(len(word_to_id), 8)  # n_vocab, d_model\n",
    "hidden = embedding(train_inputs)\n",
    "train_inputs.shape, hidden"
   ]
  },
  {
   "cell_type": "code",
   "execution_count": null,
   "metadata": {},
   "outputs": [],
   "source": [
    "# 단어의 vector를 이용해서 긍정(2), 부정(0), 중립(1) 확률값 예측\n",
    "linear = tf.keras.layers.Dense(3, activation=tf.nn.softmax)\n",
    "outputs = linear(hidden)\n",
    "outputs"
   ]
  },
  {
   "cell_type": "code",
   "execution_count": null,
   "metadata": {},
   "outputs": [],
   "source": [
    "# 단어의 vector를 이용해서 긍정(2), 부정(0), 중립(1) 확률값 예측\n",
    "linear_2 = tf.keras.layers.Dense(3)\n",
    "logits = linear_2(hidden)\n",
    "logits"
   ]
  },
  {
   "cell_type": "code",
   "execution_count": null,
   "metadata": {},
   "outputs": [],
   "source": [
    "# softmax 계산을 위한 준비 exp(x') / sum(exp(x))\n",
    "numerator = np.exp(logits)\n",
    "denominator = np.sum(numerator, axis=2, keepdims=True)\n",
    "numerator, denominator"
   ]
  },
  {
   "cell_type": "code",
   "execution_count": null,
   "metadata": {},
   "outputs": [],
   "source": [
    "# 두 결과값 비교\n",
    "probs = numerator / denominator\n",
    "probs"
   ]
  },
  {
   "cell_type": "code",
   "execution_count": null,
   "metadata": {},
   "outputs": [],
   "source": [
    "# dense의 wieght, bias\n",
    "weight, bias = linear_2.get_weights()\n",
    "weight, bias"
   ]
  },
  {
   "cell_type": "code",
   "execution_count": null,
   "metadata": {},
   "outputs": [],
   "source": [
    "# numpy를 이용한 xW + b\n",
    "logits = np.matmul(hidden, weight) + bias\n",
    "logits"
   ]
  },
  {
   "source": [
    "# 학습"
   ],
   "cell_type": "markdown",
   "metadata": {}
  },
  {
   "cell_type": "code",
   "execution_count": null,
   "metadata": {},
   "outputs": [],
   "source": [
    "# 모델 loss, optimizer, metric 정의\n",
    "model.compile(loss='sparse_categorical_crossentropy', optimizer='adam', metrics=['accuracy'])"
   ]
  },
  {
   "cell_type": "code",
   "execution_count": null,
   "metadata": {},
   "outputs": [],
   "source": [
    "# 모델 학습\n",
    "history = model.fit(train_inputs, train_labels, epochs=100, batch_size=16)"
   ]
  },
  {
   "cell_type": "code",
   "execution_count": null,
   "metadata": {},
   "outputs": [],
   "source": [
    "plt.figure(figsize=(12, 4))\n",
    "\n",
    "plt.subplot(1, 2, 1)\n",
    "plt.plot(history.history['loss'], 'b-', label='loss')\n",
    "plt.xlabel('Epoch')\n",
    "plt.legend()\n",
    "\n",
    "plt.subplot(1, 2, 2)\n",
    "plt.plot(history.history['accuracy'], 'g-', label='accuracy')\n",
    "plt.xlabel('Epoch')\n",
    "plt.legend()\n",
    "\n",
    "plt.show()"
   ]
  },
  {
   "source": [
    "# 평가"
   ],
   "cell_type": "markdown",
   "metadata": {}
  },
  {
   "cell_type": "code",
   "execution_count": null,
   "metadata": {},
   "outputs": [],
   "source": [
    "# 모델 평가\n",
    "model.evaluate(train_inputs, train_labels)"
   ]
  },
  {
   "source": [
    "# 예측"
   ],
   "cell_type": "markdown",
   "metadata": {}
  },
  {
   "cell_type": "code",
   "execution_count": null,
   "metadata": {},
   "outputs": [],
   "source": [
    "# 추론할 입력\n",
    "string = '나는 기분이 우울해'"
   ]
  },
  {
   "cell_type": "code",
   "execution_count": null,
   "metadata": {},
   "outputs": [],
   "source": [
    "# 입력을 숫자로 변경\n",
    "infer_input = [word_to_id[word] for word in string.split()]\n",
    "infer_input"
   ]
  },
  {
   "cell_type": "code",
   "execution_count": null,
   "metadata": {},
   "outputs": [],
   "source": [
    "# 문장의 길이를 모두 동일하게 변경 (최대길이 4)\n",
    "infer_input += [0] * (4 - len(infer_input))\n",
    "infer_input"
   ]
  },
  {
   "cell_type": "code",
   "execution_count": null,
   "metadata": {},
   "outputs": [],
   "source": [
    "# numpy array 변환 (batch size 1 추가)\n",
    "infer_inputs = np.array([infer_input])\n",
    "infer_inputs"
   ]
  },
  {
   "cell_type": "code",
   "execution_count": null,
   "metadata": {},
   "outputs": [],
   "source": [
    "# 긍정/부정 추론\n",
    "y_preds = model.predict(infer_inputs)\n",
    "y_preds"
   ]
  },
  {
   "cell_type": "code",
   "execution_count": null,
   "metadata": {},
   "outputs": [],
   "source": [
    "# 확률의 max 값을 추론 값으로 결정\n",
    "y_pred_class = np.argmax(y_preds, axis=2)\n",
    "y_pred_class"
   ]
  }
 ]
}